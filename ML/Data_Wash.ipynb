{
 "cells": [
  {
   "cell_type": "code",
   "execution_count": 5,
   "metadata": {},
   "outputs": [],
   "source": [
    "# -*- coding: utf-8 -*-\n",
    "from __future__ import division      #除数可以显示为float\n",
    "from six import StringIO    #使用聚宽readfile函数\n",
    "import numpy as np\n",
    "import pandas as pd\n",
    "import time                 #使用time stamp\n",
    "import matplotlib.pyplot as plt\n",
    "import math\n",
    "\n",
    "from datetime import datetime\n",
    "from datetime import timedelta"
   ]
  },
  {
   "cell_type": "code",
   "execution_count": 6,
   "metadata": {},
   "outputs": [],
   "source": [
    "file_name = \"raw_data_test.csv\"\n",
    "Data_Total = pd.read_csv(file_name)\n",
    "Stock_list = set(list(Data_Total['code']))"
   ]
  },
  {
   "cell_type": "code",
   "execution_count": 7,
   "metadata": {},
   "outputs": [],
   "source": [
    "# 删除无效数据，更改数据类型  \n",
    "\n",
    "\n",
    "# 删除成交量为空的数据\n",
    "Data_Total = Data_Total.drop(Data_Total[Data_Total['Volume'].isnull() == True].index, axis=0)\n",
    "\n",
    "# 删除成交量为0的数据\n",
    "Data_Total = Data_Total.drop(Data_Total[Data_Total['Volume'] == 0].index, axis=0)\n",
    "\n",
    "# 删除前60，后10的数据\n",
    "for stock_name in Stock_list:\n",
    "    Data_Total = Data_Total.drop(Data_Total[Data_Total['code'] == stock_name].iloc[:60].index, axis=0)\n",
    "    Data_Total = Data_Total.drop(Data_Total[Data_Total['code'] == stock_name].iloc[-10:].index, axis=0)\n",
    "\n",
    "\n",
    "\n",
    "\n",
    "\n",
    "# 删除macd_dif为空的数据\n",
    "Data_Total = Data_Total.drop(Data_Total[Data_Total['MACD_dif'].isnull() == True].index, axis=0)\n",
    "\n",
    "# 删除macd_dif为空的数据\n",
    "Data_Total = Data_Total.drop(Data_Total[Data_Total['MACD_dif'] == 0].index, axis=0)\n",
    "\n",
    "\n",
    "# # 删除为平局的数据\n",
    "# Data_Total = Data_Total.drop(Data_Total[Data_Total['win_rate'] == 0].index, axis=0)\n",
    "\n",
    "# # 修改平局的点为的-1\n",
    "Data_Total.loc[Data_Total['win_rate'] == 0,'win_rate']  = -1"
   ]
  },
  {
   "cell_type": "code",
   "execution_count": 8,
   "metadata": {},
   "outputs": [],
   "source": [
    "file_name_washed = 'Data_Washed.csv'\n",
    "Data_Total.to_csv(file_name_washed)"
   ]
  },
  {
   "cell_type": "code",
   "execution_count": null,
   "metadata": {},
   "outputs": [],
   "source": []
  },
  {
   "cell_type": "code",
   "execution_count": null,
   "metadata": {},
   "outputs": [],
   "source": []
  }
 ],
 "metadata": {
  "kernelspec": {
   "display_name": "Python 2",
   "language": "python",
   "name": "python2"
  },
  "language_info": {
   "codemirror_mode": {
    "name": "ipython",
    "version": 2
   },
   "file_extension": ".py",
   "mimetype": "text/x-python",
   "name": "python",
   "nbconvert_exporter": "python",
   "pygments_lexer": "ipython2",
   "version": "2.7.13"
  }
 },
 "nbformat": 4,
 "nbformat_minor": 2
}
