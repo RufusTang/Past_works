{
 "cells": [
  {
   "cell_type": "code",
   "execution_count": 1,
   "metadata": {},
   "outputs": [],
   "source": [
    "# -*- coding: utf-8 -*-\n",
    "from __future__ import division      #除数可以显示为float\n",
    "from six import StringIO    #使用聚宽readfile函数\n",
    "import numpy as np\n",
    "import pandas as pd\n",
    "import time                 #使用time stamp\n",
    "import matplotlib.pyplot as plt\n",
    "import math\n",
    "\n",
    "from datetime import datetime\n",
    "from datetime import timedelta"
   ]
  },
  {
   "cell_type": "code",
   "execution_count": 2,
   "metadata": {},
   "outputs": [],
   "source": [
    "file_name = \"raw_data_test.csv\"\n",
    "Data_Total = pd.read_csv(file_name)\n",
    "Stock_list = set(list(Data_Total['code']))\n",
    "Data_Normal = pd.DataFrame()"
   ]
  },
  {
   "cell_type": "code",
   "execution_count": 3,
   "metadata": {},
   "outputs": [],
   "source": [
    "# 开始逐列赋值\n",
    "# 赋值股票编码\n",
    "Data_Normal[\"code\"] = Data_Total[\"code\"]\n",
    "Data_Normal[\"date\"] = Data_Total[\"date\"]\n",
    "Data_Normal[\"win_rate\"] = Data_Total[\"win_rate\"]\n",
    "\n",
    "\n",
    "col_list_prime = ['price', 'MACD_dif', 'MACD_dea', 'MACD_macd', 'EMA_5', 'EMA_10', 'EMA_gap', 'KDJ_K', 'KDJ_D', 'KDJ_J', 'RSI', 'MOM', 'MOM_gap', 'OBV', 'Long_Short_Rate_OBV', 'Volume']\n",
    "\n",
    "\n",
    "# 构建表结构，确定每个指标前10、20天的表结构\n",
    "for col_name in col_list_prime:\n",
    "    Data_Normal[col_name+\"_\"+\"avg_10\"] = None\n",
    "    Data_Normal[col_name+\"_\"+\"avg_20\"] = None\n",
    "\n",
    "    \n",
    "# 构建表结构，确定初步各个指标前5天的表结构\n",
    "for col_name in col_list_prime:\n",
    "    for col_i in range(1,6,1):\n",
    "        Data_Normal[col_name+\"_\"+str(col_i)] = None\n",
    "        "
   ]
  },
  {
   "cell_type": "code",
   "execution_count": 4,
   "metadata": {},
   "outputs": [],
   "source": [
    "import logging\n",
    "import os\n",
    "#创建日志\n",
    "logger = logging.getLogger('Data_Normalize-LOG')\n",
    "logger.setLevel(logging.DEBUG)\n",
    "\n",
    "# create console handler and set level to debug\n",
    "# 创建控制台处理程序 和设置 debug级别\n",
    "ch = logging.StreamHandler()\n",
    "ch.setLevel(logging.DEBUG)\n",
    "\n",
    "# create file handler and set level to warning\n",
    "# 创建文件处理程序并设置warning警告级别\n",
    "fh = logging.FileHandler(str(os.path.join(os.getcwd(),'log_data_normarlize.txt')))\n",
    "# fh.setLevel(logging.WARNING) #把WARNING级别以上的日志写到 日志文件中\n",
    "fh.setLevel(logging.DEBUG) ##把INFO 级别以上的日志写到 日志文件中去\n",
    "# fh.setLevel(logging.DEBUG)\n",
    "\n",
    "# create formatter\n",
    "# 创建格式化程序\n",
    "formatter = logging.Formatter('%(asctime)s - %(name)s - %(levelname)s - %(message)s')\n",
    "\n",
    "# add formatter to ch and fh\n",
    "# 格式化ch 和 fh\n",
    "ch.setFormatter(formatter)\n",
    "fh.setFormatter(formatter)\n",
    "\n",
    "# add ch and fh to logger\n",
    "# 添加ch 和 fh 的日志记录\n",
    "logger.addHandler(ch) #显示在控制台上\n",
    "logger.addHandler(fh)\n",
    "\n",
    "# 'application' code\n",
    "# 日志记录内容\n",
    "# logger.debug('1、debug message') #记录debug级别的信息\n",
    "# logger.info('2、info message') ##记录info级别的信息\n",
    "# logger.warn('3、warn message') #记录warn级别的信息\n",
    "# logger.error('4、error message') #记录error级别的信息\n",
    "# logger.critical('5、critical message') #记录critical级别的信息"
   ]
  },
  {
   "cell_type": "code",
   "execution_count": 5,
   "metadata": {},
   "outputs": [
    {
     "ename": "NameError",
     "evalue": "name 'talib' is not defined",
     "output_type": "error",
     "traceback": [
      "\u001b[1;31m---------------------------------------------------------------------------\u001b[0m",
      "\u001b[1;31mNameError\u001b[0m                                 Traceback (most recent call last)",
      "\u001b[1;32m<ipython-input-5-b35ca78dbe26>\u001b[0m in \u001b[0;36m<module>\u001b[1;34m()\u001b[0m\n\u001b[0;32m     10\u001b[0m \u001b[1;33m\u001b[0m\u001b[0m\n\u001b[0;32m     11\u001b[0m         \u001b[1;31m# 简单的5天平均\u001b[0m\u001b[1;33m\u001b[0m\u001b[1;33m\u001b[0m\u001b[0m\n\u001b[1;32m---> 12\u001b[1;33m         \u001b[0msma_data_temp_10\u001b[0m \u001b[1;33m=\u001b[0m \u001b[0mtalib\u001b[0m\u001b[1;33m.\u001b[0m\u001b[0mSMA\u001b[0m\u001b[1;33m(\u001b[0m\u001b[0mnp\u001b[0m\u001b[1;33m.\u001b[0m\u001b[0marray\u001b[0m\u001b[1;33m(\u001b[0m\u001b[0mcol_data_temp\u001b[0m\u001b[1;33m)\u001b[0m\u001b[1;33m,\u001b[0m \u001b[0mtimeperiod\u001b[0m\u001b[1;33m=\u001b[0m\u001b[1;36m10\u001b[0m\u001b[1;33m)\u001b[0m\u001b[1;33m\u001b[0m\u001b[0m\n\u001b[0m\u001b[0;32m     13\u001b[0m         \u001b[0mData_Normal\u001b[0m\u001b[1;33m.\u001b[0m\u001b[0mloc\u001b[0m\u001b[1;33m[\u001b[0m\u001b[0mData_Total\u001b[0m\u001b[1;33m[\u001b[0m\u001b[1;34m'code'\u001b[0m\u001b[1;33m]\u001b[0m \u001b[1;33m==\u001b[0m \u001b[0mstock_name\u001b[0m\u001b[1;33m,\u001b[0m\u001b[0mcol_name\u001b[0m\u001b[1;33m+\u001b[0m\u001b[1;34m\"_\"\u001b[0m\u001b[1;33m+\u001b[0m\u001b[1;34m\"avg_10\"\u001b[0m\u001b[1;33m]\u001b[0m \u001b[1;33m=\u001b[0m \u001b[0mnp\u001b[0m\u001b[1;33m.\u001b[0m\u001b[0marray\u001b[0m\u001b[1;33m(\u001b[0m\u001b[0mcol_data_temp\u001b[0m\u001b[1;33m)\u001b[0m\u001b[1;33m/\u001b[0m\u001b[0mnp\u001b[0m\u001b[1;33m.\u001b[0m\u001b[0marray\u001b[0m\u001b[1;33m(\u001b[0m\u001b[0msma_data_temp_10\u001b[0m\u001b[1;33m)\u001b[0m\u001b[1;33m\u001b[0m\u001b[0m\n\u001b[0;32m     14\u001b[0m \u001b[1;33m\u001b[0m\u001b[0m\n",
      "\u001b[1;31mNameError\u001b[0m: name 'talib' is not defined"
     ]
    }
   ],
   "source": [
    "# 利用col_list_prime进行扩展，扩展出多个列\n",
    "\n",
    "# 开始逐股票赋值\n",
    "for stock_name in Stock_list:\n",
    "    # 计算前5、15天的平均归一结果\n",
    "    \n",
    "    for col_name in col_list_prime:\n",
    "        #计算每列的简单平均值，用于归一化\n",
    "        col_data_temp = Data_Total.loc[Data_Total['code'] == stock_name,col_name]\n",
    "        \n",
    "        # 简单的5天平均\n",
    "        sma_data_temp_10 = talib.SMA(np.array(col_data_temp), timeperiod=10)\n",
    "        Data_Normal.loc[Data_Total['code'] == stock_name,col_name+\"_\"+\"avg_10\"] = np.array(col_data_temp)/np.array(sma_data_temp_10)\n",
    "        \n",
    "        # 简单的15天平均\n",
    "        sma_data_temp_20 = talib.SMA(np.array(col_data_temp), timeperiod=20)\n",
    "        Data_Normal.loc[Data_Total['code'] == stock_name,col_name+\"_\"+\"avg_20\"] = np.array(col_data_temp)/np.array(sma_data_temp_20)\n",
    "    logger.info('股票编码%s，计算完成平均值'%(str(stock_name),int(row_i)))\n",
    "    \n",
    "    # 计算每个样本前5天的变化情况\n",
    "    # 定义临时pandas结构，进行数据转存\n",
    "    Data_Temp = pd.DataFrame()\n",
    "    Data_Temp = Data_Total[Data_Total['code']==stock_name]\n",
    "\n",
    "    # 逐行开始赋值\n",
    "    # 注意：从第5行开始，因为需要看前面的5个数据\n",
    "    for row_i in range(5,Data_Temp.shape[0]):\n",
    "        logger.info(\"完成股票编码%s，第%d条，共%d条\"%(str(stock_name),int(row_i),int(Data_Temp.shape[0])))\n",
    "        \n",
    "        # 暂存日期，用于检索对应的行，进行更新\n",
    "        date_temp = Data_Temp['date'].iloc[row_i]\n",
    "\n",
    "        # 错误处理机制，确保程序运行顺畅\n",
    "        # 逐行开始进行数据整理\n",
    "        try:\n",
    "        \n",
    "            # 开始进行扩展\n",
    "            # 计算前5天的值的变化\n",
    "            for day_count in range(1,6):\n",
    "                # 逐列进行扩展，扩展为XX_1,XX_2,XX_3...\n",
    "                for col_name in col_list_prime:\n",
    "                    Data_Normal.loc[(Data_Normal['code']==stock_name)&(Data_Normal['date']==date_temp),str(col_name+\"_\"+str(day_count))] \\\n",
    "                                                = float(Data_Temp[col_name].iloc[row_i - day_count])/float(Data_Temp[col_name].iloc[row_i])        \n",
    "        \n",
    "        except Exception, e:\n",
    "            logger.info('股票编码%s，出错行数：%d'%(str(stock_name),int(row_i)))\n",
    "            logger.info('出错原因%s'%str(e))\n",
    "        \n"
   ]
  },
  {
   "cell_type": "code",
   "execution_count": null,
   "metadata": {},
   "outputs": [],
   "source": [
    "Data_Normal.to_csv(\"Data_Normalize_test.csv\")"
   ]
  },
  {
   "cell_type": "code",
   "execution_count": null,
   "metadata": {},
   "outputs": [],
   "source": []
  }
 ],
 "metadata": {
  "kernelspec": {
   "display_name": "Python 2",
   "language": "python",
   "name": "python2"
  },
  "language_info": {
   "codemirror_mode": {
    "name": "ipython",
    "version": 2
   },
   "file_extension": ".py",
   "mimetype": "text/x-python",
   "name": "python",
   "nbconvert_exporter": "python",
   "pygments_lexer": "ipython2",
   "version": "2.7.13"
  }
 },
 "nbformat": 4,
 "nbformat_minor": 2
}
