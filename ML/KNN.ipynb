{
 "cells": [
  {
   "cell_type": "code",
   "execution_count": 1,
   "metadata": {},
   "outputs": [],
   "source": [
    "from __future__ import division      #除数可以显示为float\n",
    "\n",
    "from six import StringIO    #使用聚宽readfile函数\n",
    "import numpy as np\n",
    "import pandas as pd\n",
    "\n",
    "import time                 #使用time stamp\n",
    "import datetime             \n",
    "\n",
    "import matplotlib.pyplot as plt\n",
    "\n",
    "import math\n",
    "\n",
    "# 最基本的KNN算法\n",
    "from sklearn.neighbors import KNeighborsClassifier\n",
    "\n",
    "# 导入样本拆分模块\n",
    "from sklearn.model_selection import train_test_split\n",
    "\n",
    "# 导入KNN半径算法\n",
    "from sklearn.neighbors import RadiusNeighborsClassifier\n"
   ]
  },
  {
   "cell_type": "code",
   "execution_count": 2,
   "metadata": {},
   "outputs": [
    {
     "name": "stdout",
     "output_type": "stream",
     "text": [
      "name: KNN; score: 0.788395904437\n",
      "name: KNN with weights; score: 0.787542662116\n",
      "name: Radius Neighbors; score: 0.811433447099\n"
     ]
    }
   ],
   "source": [
    "\n",
    "# 读取归一化后的数据\n",
    "Data_Csv = pd.DataFrame()\n",
    "Data_Csv = pd.read_csv(\"Data_Normalize.csv\")\n",
    "\n",
    "\n",
    "# 生成测试数据\n",
    "x =  np.array(Data_Csv.loc[:,['MACD_macd', 'EMA_gap', 'KDJ_J', 'RSI', 'MOM', 'MOM_gap', 'OBV', \\\n",
    "        'Long_Short_Rate_OBV', 'KDJ_J_pre', 'MOM_pre', 'MOM_gap_pre', \\\n",
    "       'OBV_pre', 'Long_Short_Rate_OBV_pre', 'MACD_macd_pre','EMA_gap_pre']])\n",
    "\n",
    "# 生成测试结果\n",
    "y = np.array(Data_Csv.loc[:,\"win_rate\"])\n",
    "\n",
    "k = 5\n",
    "\n",
    "# 分别生成训练数据、测试数据\n",
    "x_train,x_test,y_train,y_test = train_test_split(x,y,test_size = 0.2)\n",
    "\n",
    "models = []\n",
    "models.append((\"KNN\", KNeighborsClassifier(n_neighbors=k)))\n",
    "models.append((\"KNN with weights\", KNeighborsClassifier(\n",
    "    n_neighbors=k, weights=\"distance\")))\n",
    "models.append((\"Radius Neighbors\", RadiusNeighborsClassifier(\n",
    "    n_neighbors=k, radius=25)))\n",
    "\n",
    "results = []\n",
    "for name, model in models:\n",
    "    model.fit(x_train, y_train)\n",
    "    results.append((name, model.score(x_test, y_test)))\n",
    "    \n",
    "for i in range(len(results)):\n",
    "    print(\"name: {}; score: {}\".format(results[i][0],results[i][1]))"
   ]
  },
  {
   "cell_type": "code",
   "execution_count": 3,
   "metadata": {},
   "outputs": [
    {
     "name": "stdout",
     "output_type": "stream",
     "text": [
      "name: KNN; cross val score: 0.8\n",
      "name: KNN with weights; cross val score: 0.797269624573\n",
      "name: Radius Neighbors; cross val score: 0.827303754266\n"
     ]
    }
   ],
   "source": [
    "# 多次分配训练数据集、交叉验证数据集，求模型准确性的评分\n",
    "from sklearn.model_selection import KFold\n",
    "from sklearn.model_selection import cross_val_score\n",
    "\n",
    "results = []\n",
    "for name, model in models:\n",
    "    kfold = KFold(n_splits=10)\n",
    "    cv_result = cross_val_score(model, x, y, cv=kfold)\n",
    "    results.append((name, cv_result))\n",
    "    \n",
    "for i in range(len(results)):\n",
    "    print(\"name: {}; cross val score: {}\".format(\n",
    "        results[i][0],results[i][1].mean()))"
   ]
  },
  {
   "cell_type": "code",
   "execution_count": 4,
   "metadata": {},
   "outputs": [
    {
     "name": "stdout",
     "output_type": "stream",
     "text": [
      "train score: 0.831271331058; test score: 0.811433447099\n"
     ]
    }
   ],
   "source": [
    "# 单独看半径算法的情况\n",
    "knn = RadiusNeighborsClassifier(n_neighbors=k, radius=25)\n",
    "knn.fit(x_train, y_train)\n",
    "train_score = knn.score(x_train, y_train)\n",
    "test_score = knn.score(x_test, y_test)\n",
    "print(\"train score: {}; test score: {}\".format(train_score, test_score))"
   ]
  },
  {
   "cell_type": "code",
   "execution_count": 43,
   "metadata": {},
   "outputs": [
    {
     "data": {
      "text/plain": [
       "array([ 1.        ,  0.33333333,  0.5       ])"
      ]
     },
     "execution_count": 43,
     "metadata": {},
     "output_type": "execute_result"
    }
   ],
   "source": [
    "\n",
    "from sklearn.metrics import precision_score, recall_score, f1_score\n",
    " \n",
    "y_true = [0, 1, 1, 0, 1, 1, 0, -1]\n",
    "y_pred = [1, 1, 1, 0, 0, 0, 1, -1]\n",
    " \n",
    "# p = precision_score(y_true, y_pred, average='binary')\n",
    "# r = recall_score(y_true, y_pred, average='binary')\n",
    "# f1score = f1_score(y_true, y_pred, average='binary')\n",
    " \n",
    "# print(p)\n",
    "# print(r)\n",
    "# print(f1score)\n",
    "\n",
    "# np.set_printoptions(threshold='nan') \n",
    "# print y_test\n",
    "# print np.array(knn.predict(x_test))\n",
    "\n",
    "\n",
    "precision_score(y_true,y_pred ,labels  = ,average = None)"
   ]
  },
  {
   "cell_type": "code",
   "execution_count": 6,
   "metadata": {},
   "outputs": [
    {
     "name": "stdout",
     "output_type": "stream",
     "text": [
      "<type 'numpy.ndarray'>\n"
     ]
    }
   ],
   "source": [
    "# 画出学习曲线\n",
    "from sklearn.datasets import load_digits\n",
    "from sklearn.model_selection import learning_curve\n",
    "from sklearn.model_selection import ShuffleSplit\n",
    "\n",
    "# 参数赋值\n",
    "knn = knn\n",
    "print type(y)\n",
    "\n",
    "cv = ShuffleSplit(n_splits=100, test_size=0.2, random_state=0)\n",
    "\n",
    "train_sizes, train_scores, test_scores = learning_curve(\n",
    "        knn, x, y, cv=cv, n_jobs=1, train_sizes=np.array([ 0.1  ,  0.325,  0.55 ,  0.775,  1.   ]))\n"
   ]
  },
  {
   "cell_type": "code",
   "execution_count": 7,
   "metadata": {},
   "outputs": [
    {
     "data": {
      "image/png": "[encoded data removed]",
      "text/plain": [
       "<matplotlib.figure.Figure at 0x124dfac8>"
      ]
     },
     "metadata": {},
     "output_type": "display_data"
    }
   ],
   "source": [
    "train_scores_mean = np.mean(train_scores, axis=1)\n",
    "train_scores_std = np.std(train_scores, axis=1)\n",
    "test_scores_mean = np.mean(test_scores, axis=1)\n",
    "test_scores_std = np.std(test_scores, axis=1)\n",
    "\n",
    "plt.figure()\n",
    "plt.title(\"learning curve\")\n",
    "\n",
    "\n",
    "plt.xlabel(u\"train_sample\")\n",
    "plt.ylabel(u\"score\")\n",
    "plt.gca().invert_yaxis()\n",
    "plt.grid()\n",
    "\n",
    "plt.fill_between(train_sizes, train_scores_mean - train_scores_std, train_scores_mean + train_scores_std, \n",
    "                         alpha=0.1, color=\"b\")\n",
    "        \n",
    "plt.fill_between(train_sizes, test_scores_mean - test_scores_std, test_scores_mean + test_scores_std, \n",
    "                         alpha=0.1, color=\"r\")\n",
    "\n",
    "plt.plot(train_sizes, train_scores_mean, 'o-', color=\"b\", label=u\"train_score\")\n",
    "plt.plot(train_sizes, test_scores_mean, 'o-', color=\"r\", label=u\"cross_validation_score\")\n",
    "\n",
    "plt.legend(loc=\"best\")\n",
    "\n",
    "plt.draw()\n",
    "plt.show()\n"
   ]
  },
  {
   "cell_type": "code",
   "execution_count": null,
   "metadata": {},
   "outputs": [],
   "source": []
  },
  {
   "cell_type": "code",
   "execution_count": null,
   "metadata": {},
   "outputs": [],
   "source": []
  },
  {
   "cell_type": "code",
   "execution_count": null,
   "metadata": {},
   "outputs": [],
   "source": []
  },
  {
   "cell_type": "code",
   "execution_count": null,
   "metadata": {},
   "outputs": [],
   "source": [
    "plot_learning_curve(knn, \"title\", x, y, ylim=(0.7, 1.01), n_jobs=4)\n"
   ]
  },
  {
   "cell_type": "code",
   "execution_count": 48,
   "metadata": {},
   "outputs": [
    {
     "data": {
      "text/plain": [
       "array([[4, 1],\n",
       "       [4, 1],\n",
       "       [3, 1],\n",
       "       [2, 1],\n",
       "       [1, 1]], dtype=int64)"
      ]
     },
     "execution_count": 48,
     "metadata": {},
     "output_type": "execute_result"
    }
   ],
   "source": [
    "from sklearn.feature_selection import SelectKBest\n",
    "\n",
    "selector = SelectKBest(k=2)\n",
    "X_new = selector.fit_transform(x, y)\n",
    "X_new[0:5]\n",
    "\n"
   ]
  },
  {
   "cell_type": "code",
   "execution_count": null,
   "metadata": {},
   "outputs": [],
   "source": [
    "# 保存模型参数\n",
    "from sklearn.externals import joblib\n",
    "joblib.dump(clf, 'digits_svm.pkl');"
   ]
  },
  {
   "cell_type": "code",
   "execution_count": null,
   "metadata": {},
   "outputs": [],
   "source": [
    "# 导入模型参数，直接进行预测\n",
    "clf = joblib.load('digits_svm.pkl')\n",
    "Ypred = clf.predict(Xtest);\n",
    "clf.score(Xtest, Ytest)"
   ]
  }
 ],
 "metadata": {
  "kernelspec": {
   "display_name": "Python 2",
   "language": "python",
   "name": "python2"
  },
  "language_info": {
   "codemirror_mode": {
    "name": "ipython",
    "version": 2
   },
   "file_extension": ".py",
   "mimetype": "text/x-python",
   "name": "python",
   "nbconvert_exporter": "python",
   "pygments_lexer": "ipython2",
   "version": "2.7.13"
  }
 },
 "nbformat": 4,
 "nbformat_minor": 2
}
