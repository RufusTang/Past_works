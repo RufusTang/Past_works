{
 "cells": [
  {
   "cell_type": "code",
   "execution_count": 19,
   "metadata": {},
   "outputs": [
    {
     "name": "stdout",
     "output_type": "stream",
     "text": [
      "[[  1.06877860e-02   2.60117800e-03   8.08660800e-03 ...,   8.61921557e+09\n",
      "   -2.65632408e+08   3.54176544e+08]\n",
      " [ -1.13615270e-02  -2.05305700e-03  -9.30847100e-03 ...,   8.28425945e+09\n",
      "   -2.34469286e+08   3.34956123e+08]\n",
      " [ -2.42150000e-02  -9.44037100e-03  -1.47746290e-02 ...,   7.86560480e+09\n",
      "    2.22688645e+08   4.18654653e+08]\n",
      " ..., \n",
      " [ -5.03564200e-03  -5.74005740e-02   5.23649310e-02 ...,   5.02408311e+10\n",
      "    1.24747496e+08   3.38600346e+08]\n",
      " [ -3.51478700e-03  -3.94386450e-02   3.59238580e-02 ...,   5.00333585e+10\n",
      "   -1.38315111e+08   2.07472666e+08]\n",
      " [ -1.00479700e-02  -2.96417530e-02   1.95937830e-02 ...,   4.98617024e+10\n",
      "   -1.02993661e+08   1.71656102e+08]]\n",
      "[-1 -1 -1 ..., -1 -1  1]\n"
     ]
    }
   ],
   "source": [
    "from __future__ import division      #除数可以显示为float\n",
    "\n",
    "from six import StringIO    #使用聚宽readfile函数\n",
    "import numpy as np\n",
    "import pandas as pd\n",
    "\n",
    "import time                 #使用time stamp\n",
    "import datetime             \n",
    "\n",
    "import matplotlib.pyplot as plt\n",
    "\n",
    "import math\n",
    "\n",
    "\n",
    "# 读取归一化后的数据\n",
    "Data_Csv = pd.DataFrame()\n",
    "Data_Csv = pd.read_csv(\"Data_Washed.csv\")\n",
    "\n",
    "Data_Csv = Data_Csv.fillna(0)\n",
    "\n",
    "# 生成测试数据\n",
    "# X =  np.array(Data_Csv.loc[:,['MACD_macd', 'EMA_gap', 'KDJ_J', 'RSI', 'MOM', 'MOM_gap', 'OBV', \\\n",
    "#         'Long_Short_Rate_OBV', 'KDJ_J_pre', 'MOM_pre', 'MOM_gap_pre', \\\n",
    "#        'OBV_pre', 'Long_Short_Rate_OBV_pre', 'MACD_macd_pre','EMA_gap_pre']])\n",
    "\n",
    "# 生成测试数据\n",
    "X =  np.array(Data_Csv.iloc[:,4:])\n",
    "# 生成测试结果\n",
    "y = np.array(Data_Csv.loc[:,\"win_rate\"])\n",
    "\n",
    "print X\n",
    "print y"
   ]
  },
  {
   "cell_type": "code",
   "execution_count": 20,
   "metadata": {},
   "outputs": [],
   "source": [
    "from sklearn.model_selection import train_test_split\n",
    "\n",
    "X_train, X_test, y_train, y_test = train_test_split(X, y, test_size=0.2)"
   ]
  },
  {
   "cell_type": "code",
   "execution_count": 21,
   "metadata": {},
   "outputs": [
    {
     "name": "stdout",
     "output_type": "stream",
     "text": [
      "train score: 0.764896; test score: 0.787823\n"
     ]
    }
   ],
   "source": [
    "# 模型训练\n",
    "from sklearn.linear_model import LogisticRegression\n",
    "\n",
    "model = LogisticRegression()\n",
    "model.fit(X_train, y_train)\n",
    "\n",
    "train_score = model.score(X_train, y_train)\n",
    "test_score = model.score(X_test, y_test)\n",
    "print('train score: {train_score:.6f}; test score: {test_score:.6f}'.format(\n",
    "    train_score=train_score, test_score=test_score))"
   ]
  },
  {
   "cell_type": "code",
   "execution_count": 22,
   "metadata": {},
   "outputs": [],
   "source": [
    "np.set_printoptions(threshold='nan') \n",
    "# print y_test\n",
    "# print np.array(model.predict(X_test))"
   ]
  },
  {
   "cell_type": "code",
   "execution_count": 26,
   "metadata": {},
   "outputs": [
    {
     "name": "stdout",
     "output_type": "stream",
     "text": [
      "实际为-1，但是预测为1\n",
      "12\n",
      "实际为1，但是预测为-1\n",
      "96\n",
      "实际为1，但是预测为1\n",
      "11\n"
     ]
    }
   ],
   "source": [
    "# 样本预测\n",
    "y_pred = model.predict(X_test)\n",
    "\n",
    "test_t = list(np.where(np.array(y_test) == -1))\n",
    "pre_t = list(np.where(np.array(y_pred) == 1))\n",
    "\n",
    "print \"实际为-1，但是预测为1\"\n",
    "print len(set(test_t[0])&set(pre_t[0]))\n",
    "\n",
    "\n",
    "\n",
    "test_t = list(np.where(np.array(y_test) == 1))\n",
    "pre_t = list(np.where(np.array(y_pred) == -1))\n",
    "\n",
    "print \"实际为1，但是预测为-1\"\n",
    "print len(set(test_t[0])&set(pre_t[0]))\n",
    "\n",
    "\n",
    "\n",
    "test_t = list(np.where(np.array(y_test) == 1))\n",
    "pre_t = list(np.where(np.array(y_pred) == 1))\n",
    "\n",
    "print \"实际为1，但是预测为1\"\n",
    "print len(set(test_t[0])&set(pre_t[0]))\n",
    "\n",
    "# print y_pred[np.array(y_pred) == 1]\n",
    "# print('matchs: {0}/{1}'.format(np.equal(y_pred, y_test).shape[0], y_test.shape[0]))"
   ]
  },
  {
   "cell_type": "code",
   "execution_count": 27,
   "metadata": {},
   "outputs": [
    {
     "data": {
      "text/plain": [
       "0.47826086956521741"
      ]
     },
     "execution_count": 27,
     "metadata": {},
     "output_type": "execute_result"
    }
   ],
   "source": [
    "from sklearn.metrics import precision_score, recall_score, f1_score\n",
    "\n",
    "precision_score(y_test,y_pred , average='binary')"
   ]
  },
  {
   "cell_type": "code",
   "execution_count": 28,
   "metadata": {},
   "outputs": [
    {
     "name": "stdout",
     "output_type": "stream",
     "text": [
      "elaspe: 64.663294; train_score: 0.781062; cv_score: 0.800738\n"
     ]
    }
   ],
   "source": [
    "import time\n",
    "from sklearn.linear_model import LogisticRegression\n",
    "from sklearn.preprocessing import PolynomialFeatures\n",
    "from sklearn.pipeline import Pipeline\n",
    "\n",
    "# 增加多项式预处理\n",
    "def polynomial_model(degree=1, **kwarg):\n",
    "    polynomial_features = PolynomialFeatures(degree=degree,\n",
    "                                             include_bias=False)\n",
    "    logistic_regression = LogisticRegression(**kwarg)\n",
    "    pipeline = Pipeline([(\"polynomial_features\", polynomial_features),\n",
    "                         (\"logistic_regression\", logistic_regression)])\n",
    "    return pipeline\n",
    "\n",
    "model = polynomial_model(degree=2, penalty='l1')\n",
    "\n",
    "start = time.clock()\n",
    "model.fit(X_train, y_train)\n",
    "\n",
    "train_score = model.score(X_train, y_train)\n",
    "cv_score = model.score(X_test, y_test)\n",
    "print('elaspe: {0:.6f}; train_score: {1:0.6f}; cv_score: {2:.6f}'.format(\n",
    "    time.clock()-start, train_score, cv_score))\n",
    "\n"
   ]
  },
  {
   "cell_type": "code",
   "execution_count": 29,
   "metadata": {},
   "outputs": [
    {
     "name": "stdout",
     "output_type": "stream",
     "text": [
      "0.478260869565\n"
     ]
    }
   ],
   "source": [
    "print precision_score(y_test,y_pred , average='binary')"
   ]
  },
  {
   "cell_type": "code",
   "execution_count": 30,
   "metadata": {},
   "outputs": [
    {
     "name": "stdout",
     "output_type": "stream",
     "text": [
      "model parameters shape: (1L, 152L); count of non-zero element: 76\n"
     ]
    }
   ],
   "source": [
    "#  pipeline.named_steps给出了流水线上每一步使用的学习器\n",
    "#  coef_里面保存的就是模型参数\n",
    "logistic_regression = model.named_steps['logistic_regression']\n",
    "print('model parameters shape: {0}; count of non-zero element: {1}'.format(\n",
    "    logistic_regression.coef_.shape, \n",
    "    np.count_nonzero(logistic_regression.coef_)))"
   ]
  },
  {
   "cell_type": "code",
   "execution_count": null,
   "metadata": {},
   "outputs": [],
   "source": []
  }
 ],
 "metadata": {
  "kernelspec": {
   "display_name": "Python 2",
   "language": "python",
   "name": "python2"
  },
  "language_info": {
   "codemirror_mode": {
    "name": "ipython",
    "version": 2
   },
   "file_extension": ".py",
   "mimetype": "text/x-python",
   "name": "python",
   "nbconvert_exporter": "python",
   "pygments_lexer": "ipython2",
   "version": "2.7.13"
  }
 },
 "nbformat": 4,
 "nbformat_minor": 2
}
