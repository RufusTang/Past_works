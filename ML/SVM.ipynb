{
 "cells": [
  {
   "cell_type": "code",
   "execution_count": 4,
   "metadata": {},
   "outputs": [],
   "source": [
    "from __future__ import division      #除数可以显示为float\n",
    "\n",
    "from six import StringIO    #使用聚宽readfile函数\n",
    "import numpy as np\n",
    "import pandas as pd\n",
    "\n",
    "import time                 #使用time stamp\n",
    "import datetime             \n",
    "\n",
    "import matplotlib.pyplot as plt\n",
    "\n",
    "import math\n",
    "\n",
    "\n",
    "# 读取归一化后的数据\n",
    "Data_Csv = pd.DataFrame()\n",
    "Data_Csv = pd.read_csv(\"Data_Normalize.csv\")\n",
    "\n",
    "\n",
    "\n",
    "# 生成测试数据\n",
    "X =  np.array(Data_Csv.loc[:,['MACD_macd', 'EMA_gap', 'KDJ_J', 'RSI', 'MOM', 'MOM_gap', 'OBV', \\\n",
    "        'Long_Short_Rate_OBV', 'KDJ_J_pre', 'MOM_pre', 'MOM_gap_pre', \\\n",
    "       'OBV_pre', 'Long_Short_Rate_OBV_pre', 'MACD_macd_pre','EMA_gap_pre']])\n",
    "\n",
    "# 生成测试结果\n",
    "y = np.array(Data_Csv.loc[:,\"win_rate\"])\n",
    "\n"
   ]
  },
  {
   "cell_type": "code",
   "execution_count": 5,
   "metadata": {},
   "outputs": [],
   "source": [
    "from sklearn.model_selection import train_test_split\n",
    "\n",
    "X_train, X_test, y_train, y_test = train_test_split(X, y, test_size=0.2)"
   ]
  },
  {
   "cell_type": "code",
   "execution_count": 6,
   "metadata": {},
   "outputs": [
    {
     "name": "stdout",
     "output_type": "stream",
     "text": [
      "train score: 0.850042662116; test score: 0.813993174061\n"
     ]
    }
   ],
   "source": [
    "from sklearn.svm import SVC\n",
    "\n",
    "clf = SVC(C=1.0, kernel='rbf', gamma=0.1)\n",
    "clf.fit(X_train, y_train)\n",
    "train_score = clf.score(X_train, y_train)\n",
    "test_score = clf.score(X_test, y_test)\n",
    "print('train score: {0}; test score: {1}'.format(train_score, test_score))"
   ]
  },
  {
   "cell_type": "code",
   "execution_count": 8,
   "metadata": {},
   "outputs": [
    {
     "data": {
      "text/plain": [
       "0.125"
      ]
     },
     "execution_count": 8,
     "metadata": {},
     "output_type": "execute_result"
    }
   ],
   "source": [
    "from sklearn.metrics import precision_score, recall_score, f1_score\n",
    "# 样本预测\n",
    "y_pred = clf.predict(X_test)\n",
    "precision_score(y_test,y_pred , average='binary')"
   ]
  },
  {
   "cell_type": "code",
   "execution_count": 10,
   "metadata": {},
   "outputs": [
    {
     "name": "stdout",
     "output_type": "stream",
     "text": [
      "best param: {'gamma': 0.0}\n",
      "best score: 0.827303754266\n"
     ]
    }
   ],
   "source": [
    "# from common.utils import plot_param_curve\n",
    "from sklearn.model_selection import GridSearchCV\n",
    "\n",
    "gammas = np.linspace(0, 0.0003, 30)\n",
    "param_grid = {'gamma': gammas}\n",
    "clf = GridSearchCV(SVC(), param_grid, cv=5)\n",
    "clf.fit(X, y)\n",
    "print(\"best param: {0}\\nbest score: {1}\".format(clf.best_params_,\n",
    "                                                clf.best_score_))\n",
    "\n",
    "# plt.figure(figsize=(10, 4), dpi=144)\n",
    "# plot_param_curve(plt, gammas, clf.cv_results_, xlabel='gamma');"
   ]
  },
  {
   "cell_type": "code",
   "execution_count": 11,
   "metadata": {},
   "outputs": [
    {
     "name": "stdout",
     "output_type": "stream",
     "text": [
      "train score: 0.829351535836; test score: 0.819112627986\n"
     ]
    }
   ],
   "source": [
    "# 多项式核函数\n",
    "from sklearn.svm import SVC\n",
    "\n",
    "clf = SVC(C=1.0, kernel='poly', degree=2)\n",
    "clf.fit(X_train, y_train)\n",
    "train_score = clf.score(X_train, y_train)\n",
    "test_score = clf.score(X_test, y_test)\n",
    "print('train score: {0}; test score: {1}'.format(train_score, test_score))"
   ]
  },
  {
   "cell_type": "code",
   "execution_count": null,
   "metadata": {},
   "outputs": [],
   "source": []
  }
 ],
 "metadata": {
  "kernelspec": {
   "display_name": "Python 2",
   "language": "python",
   "name": "python2"
  },
  "language_info": {
   "codemirror_mode": {
    "name": "ipython",
    "version": 2
   },
   "file_extension": ".py",
   "mimetype": "text/x-python",
   "name": "python",
   "nbconvert_exporter": "python",
   "pygments_lexer": "ipython2",
   "version": "2.7.13"
  }
 },
 "nbformat": 4,
 "nbformat_minor": 2
}
